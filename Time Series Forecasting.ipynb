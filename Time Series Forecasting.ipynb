{
 "cells": [
  {
   "cell_type": "markdown",
   "metadata": {},
   "source": [
    "# TimeSeriesForecasting_Databricks\n",
    "\n",
    "#### *Parts of this notebook have been obfuscated to protect privacy and security*"
   ]
  },
  {
   "cell_type": "markdown",
   "metadata": {},
   "source": [
    "#### *All outputs have also been cleared*"
   ]
  },
  {
   "cell_type": "code",
   "execution_count": null,
   "metadata": {
    "application/vnd.databricks.v1+cell": {
     "cellMetadata": {
      "byteLimit": 2048000,
      "rowLimit": 10000
     },
     "inputWidgets": {},
     "nuid": "1ae966e9-381b-41dd-8240-e8b9cdc26911",
     "showTitle": false,
     "title": ""
    }
   },
   "outputs": [],
   "source": [
    "%sh\n",
    "curl https://packages.microsoft.com/keys/microsoft.asc | apt-key add -\n",
    "curl https://packages.microsoft.com/config/ubuntu/16.04/prod.list > /etc/apt/sources.list.d/mssql-release.list \n",
    "apt-get update\n",
    "ACCEPT_EULA=Y apt-get install msodbcsql17\n",
    "apt-get -y install unixodbc-dev\n",
    "sudo apt-get install python3-pip -y\n",
    "pip3 install --upgrade pyodbc"
   ]
  },
  {
   "cell_type": "code",
   "execution_count": null,
   "metadata": {
    "application/vnd.databricks.v1+cell": {
     "cellMetadata": {
      "byteLimit": 2048000,
      "rowLimit": 10000
     },
     "inputWidgets": {},
     "nuid": "8f446d80-d833-4795-917e-19598fec148d",
     "showTitle": false,
     "title": ""
    }
   },
   "outputs": [],
   "source": [
    "import os\n",
    "\n",
    "import pandas as pd\n",
    "import pyodbc as dbc\n",
    "import numpy as np\n",
    "import matplotlib.pyplot as plt\n",
    "import seaborn as sns"
   ]
  },
  {
   "cell_type": "code",
   "execution_count": null,
   "metadata": {
    "application/vnd.databricks.v1+cell": {
     "cellMetadata": {
      "byteLimit": 2048000,
      "rowLimit": 10000
     },
     "inputWidgets": {},
     "nuid": "09a60961-3d61-490b-8aeb-a50f0b307363",
     "showTitle": false,
     "title": ""
    }
   },
   "outputs": [],
   "source": [
    "#set up connection to SQL prod server\n",
    "prod_conn = dbc.connect('DRIVER={ODBC Driver 17 for SQL Server};'\n",
    "                       'SERVER=SERVER_NAME;'\n",
    "                       'DATABASE=DATABASE_NAME;UID=USERNAME;'\n",
    "                       'PWD=PASSWORD')"
   ]
  },
  {
   "cell_type": "code",
   "execution_count": null,
   "metadata": {
    "application/vnd.databricks.v1+cell": {
     "cellMetadata": {
      "byteLimit": 2048000,
      "rowLimit": 10000
     },
     "inputWidgets": {},
     "nuid": "a05f4809-b803-48a6-aed1-671de1c0f440",
     "showTitle": false,
     "title": ""
    }
   },
   "outputs": [],
   "source": [
    "query = '''\n",
    "select MIN(TRANSACTION_DATE) minimum_date, MAX(TRANSACTION_DATE) maximum_date, COUNT(*) number_of_rows\n",
    "FROM DATABASE_NAME.TABLE_NAME\n",
    "WHERE ORG_ID = 87\n",
    "'''\n",
    "date_range = pd.read_sql_query(query, prod_conn)\n",
    "date_range"
   ]
  },
  {
   "cell_type": "code",
   "execution_count": null,
   "metadata": {
    "application/vnd.databricks.v1+cell": {
     "cellMetadata": {
      "byteLimit": 2048000,
      "rowLimit": 10000
     },
     "inputWidgets": {},
     "nuid": "f1b13b40-84f2-43b9-8efd-03ad33121812",
     "showTitle": false,
     "title": ""
    }
   },
   "outputs": [],
   "source": [
    "query = '''\n",
    "select TOP 7 *\n",
    "FROM DATABASE_NAME.TABLE_NAME\n",
    "WHERE ORG_ID = 87\n",
    "'''\n",
    "orders = pd.read_sql_query(query, prod_conn)\n",
    "orders"
   ]
  },
  {
   "cell_type": "code",
   "execution_count": null,
   "metadata": {
    "application/vnd.databricks.v1+cell": {
     "cellMetadata": {
      "byteLimit": 2048000,
      "rowLimit": 10000
     },
     "inputWidgets": {},
     "nuid": "df368de0-c95f-45dc-94b0-5ca0762a3c8e",
     "showTitle": false,
     "title": ""
    }
   },
   "outputs": [],
   "source": [
    "orders.columns"
   ]
  },
  {
   "cell_type": "code",
   "execution_count": null,
   "metadata": {
    "application/vnd.databricks.v1+cell": {
     "cellMetadata": {
      "byteLimit": 2048000,
      "rowLimit": 10000
     },
     "inputWidgets": {},
     "nuid": "81971517-d669-4b53-b125-d7d9b2a2163f",
     "showTitle": false,
     "title": ""
    }
   },
   "outputs": [],
   "source": [
    "# date\n",
    "# store\n",
    "# item\n",
    "# $\n",
    "\n",
    "other_items = ['BUSINESS_UNIT_NAME', 'PRODUCT_FAMILY_NAME', 'PRODUCT_CLASS_CODE', 'PRODUCT_CLASS_CODE_DESC', 'PRODUCT_GROUP_CODE_DESC', 'REPORT_CATEGORY_CODE_DESC', 'MAJOR_CODE', 'MAJOR_CODE_DESC']\n",
    "\n",
    "other_stores = ['ALIGNSALESREPID', 'ALIGNTERRITORYID', 'ALIGNREGIONID']\n",
    "\n",
    "date = 'TRANSACTION_DATE'\n",
    "store = 'ORGID_SHIPTO_ORGID'\n",
    "item = 'ITEM_NUMBER'\n",
    "amount = 'TOTAL_ORDERS'"
   ]
  },
  {
   "cell_type": "code",
   "execution_count": null,
   "metadata": {
    "application/vnd.databricks.v1+cell": {
     "cellMetadata": {
      "byteLimit": 2048000,
      "rowLimit": 10000
     },
     "inputWidgets": {},
     "nuid": "a317b08c-e166-42f9-9686-27097202fbf8",
     "showTitle": false,
     "title": ""
    }
   },
   "outputs": [],
   "source": [
    "query = '''\n",
    "select TOP 7 {date}, {store}, {item}, SUM({amount}) total_amount\n",
    "FROM DATABASE_NAME.TABLE_NAME\n",
    "WHERE ORG_ID = 87\n",
    "GROUP BY {date},\n",
    "{store},\n",
    "{item}\n",
    "ORDER BY\n",
    "{date}\n",
    ";\n",
    "'''\n",
    "query = query.format(date=date, store=store, item=item, amount=amount)\n",
    "orders = pd.read_sql_query(query, prod_conn)\n",
    "orders\n",
    "#print(query)"
   ]
  },
  {
   "cell_type": "markdown",
   "metadata": {
    "application/vnd.databricks.v1+cell": {
     "cellMetadata": {
      "byteLimit": 2048000,
      "rowLimit": 10000
     },
     "inputWidgets": {},
     "nuid": "aa7d8770-824f-498e-b417-de3ccd4f704e",
     "showTitle": false,
     "title": ""
    }
   },
   "source": [
    "# Find the Top selling item (highest quantity)"
   ]
  },
  {
   "cell_type": "code",
   "execution_count": null,
   "metadata": {
    "application/vnd.databricks.v1+cell": {
     "cellMetadata": {
      "byteLimit": 2048000,
      "rowLimit": 10000
     },
     "inputWidgets": {},
     "nuid": "594bdee9-0ce7-42a6-9acc-70dd8c87afc9",
     "showTitle": false,
     "title": ""
    }
   },
   "outputs": [],
   "source": [
    "query = '''\n",
    "select {item}, SUM(TOTAL_QTY) total_qty\n",
    "FROM DATABASE_NAME.TABLE_NAME\n",
    "WHERE ORG_ID = 87\n",
    "GROUP BY\n",
    "{item}\n",
    "ORDER BY\n",
    "total_qty DESC;\n",
    "'''\n",
    "query = query.format(date=date, store=store, item=item, amount=amount)\n",
    "top_selling_item = pd.read_sql_query(query, prod_conn)\n",
    "top_selling_item"
   ]
  },
  {
   "cell_type": "code",
   "execution_count": null,
   "metadata": {
    "application/vnd.databricks.v1+cell": {
     "cellMetadata": {
      "byteLimit": 2048000,
      "rowLimit": 10000
     },
     "inputWidgets": {},
     "nuid": "39443146-d3f7-4998-9804-0d0813e2b86c",
     "showTitle": false,
     "title": ""
    }
   },
   "outputs": [],
   "source": [
    "prod_conn = dbc.connect('DRIVER={ODBC Driver 17 for SQL Server};'\n",
    "                       'SERVER=SERVER_NAME;'\n",
    "                       'DATABASE=DATABASE_NAME;UID=USERNAME;'\n",
    "                       'PWD=PASSWORD')"
   ]
  },
  {
   "cell_type": "code",
   "execution_count": null,
   "metadata": {
    "application/vnd.databricks.v1+cell": {
     "cellMetadata": {
      "byteLimit": 2048000,
      "rowLimit": 10000
     },
     "inputWidgets": {},
     "nuid": "9a8aeb79-df38-4558-8f0d-dfaeb6d3e0c8",
     "showTitle": false,
     "title": ""
    }
   },
   "outputs": [],
   "source": [
    "query = '''\n",
    "select TOP 7 *\n",
    "FROM DATABASE_NAME.TABLE_NAME\n",
    "WHERE ORG_ID = 87;\n",
    "'''"
   ]
  },
  {
   "cell_type": "code",
   "execution_count": null,
   "metadata": {
    "application/vnd.databricks.v1+cell": {
     "cellMetadata": {
      "byteLimit": 2048000,
      "rowLimit": 10000
     },
     "inputWidgets": {},
     "nuid": "349b47f4-9296-4779-9ed2-cdcd57df3f7a",
     "showTitle": false,
     "title": ""
    }
   },
   "outputs": [],
   "source": [
    "query = '''\n",
    "SELECT TRANSACTION_DATE, ORGID_SHIPTO_ORGID, ITEM_NUMBER, SUM(TOTAL_QTY) total_qty, SUM(TOTAL_ORDERS) total_amount\n",
    "FROM DATABASE_NAME.TABLE_NAME\n",
    "WHERE ORG_ID = 87\n",
    "GROUP BY\n",
    "TRANSACTION_DATE,\n",
    "ORGID_SHIPTO_ORGID,\n",
    "ITEM_NUMBER\n",
    "'''"
   ]
  },
  {
   "cell_type": "code",
   "execution_count": null,
   "metadata": {
    "application/vnd.databricks.v1+cell": {
     "cellMetadata": {
      "byteLimit": 2048000,
      "rowLimit": 10000
     },
     "inputWidgets": {},
     "nuid": "90ef6f2a-7db9-4320-bad4-ea7af5593614",
     "showTitle": false,
     "title": ""
    }
   },
   "outputs": [],
   "source": [
    "import pyodbc\n",
    "#import pyspark\n",
    "#sc = pyspark.SparkContext()\n",
    "conn = pyodbc.connect('DRIVER={ODBC Driver 17 for SQL Server};SERVER=SERVER_NAME;DATABASE=DATABASE_NAME;UID=USERNAME;PWD=PASSWORD')\n",
    "cur = conn.cursor()\n",
    "cur.execute(query)\n",
    "results = cur.fetchall()\n",
    "\n",
    "#df = sc.parallelize(results).toDF()\n",
    "\n",
    "#df.saveAsTable('my_spark_table')\n",
    "cur.close()\n",
    "conn.close()\n",
    "results[0:6]"
   ]
  },
  {
   "cell_type": "code",
   "execution_count": null,
   "metadata": {
    "application/vnd.databricks.v1+cell": {
     "cellMetadata": {
      "byteLimit": 2048000,
      "rowLimit": 10000
     },
     "inputWidgets": {},
     "nuid": "161c8169-80ff-4450-8984-c61d3688570c",
     "showTitle": false,
     "title": ""
    }
   },
   "outputs": [],
   "source": [
    "len(results)"
   ]
  },
  {
   "cell_type": "code",
   "execution_count": null,
   "metadata": {
    "application/vnd.databricks.v1+cell": {
     "cellMetadata": {
      "byteLimit": 2048000,
      "rowLimit": 10000
     },
     "inputWidgets": {},
     "nuid": "188be683-69ea-4934-a825-81acab7ae65c",
     "showTitle": false,
     "title": ""
    }
   },
   "outputs": [],
   "source": [
    "jdbc_url = \"jdbc:sqlserver://SERVER_NAME;database=DATABASE_NAME;user=USERNAME;password=PASSWORD\"\n",
    "\n",
    "train = spark.read.format(\"jdbc\").option(\"url\", jdbc_url).option(\"query\", query).load()\n",
    "train"
   ]
  },
  {
   "cell_type": "code",
   "execution_count": null,
   "metadata": {
    "application/vnd.databricks.v1+cell": {
     "cellMetadata": {
      "byteLimit": 2048000,
      "implicitDf": true,
      "rowLimit": 10000
     },
     "inputWidgets": {},
     "nuid": "a324f391-9b40-4d91-9ece-51db998fac6a",
     "showTitle": false,
     "title": ""
    }
   },
   "outputs": [],
   "source": [
    "# make the dataframe queryable as a temporary view\n",
    "train.createOrReplaceTempView('train')\n",
    "\n",
    "display(train)"
   ]
  },
  {
   "cell_type": "code",
   "execution_count": null,
   "metadata": {
    "application/vnd.databricks.v1+cell": {
     "cellMetadata": {
      "byteLimit": 2048000,
      "implicitDf": true,
      "rowLimit": 10000
     },
     "inputWidgets": {},
     "nuid": "9718595a-9d2a-414b-9b50-0a709547fac2",
     "showTitle": false,
     "title": ""
    }
   },
   "outputs": [],
   "source": []
  },
  {
   "cell_type": "code",
   "execution_count": null,
   "metadata": {
    "application/vnd.databricks.v1+cell": {
     "cellMetadata": {
      "byteLimit": 2048000,
      "implicitDf": true,
      "rowLimit": 10000
     },
     "inputWidgets": {},
     "nuid": "da801e66-5fd4-4e3e-82dd-ff08339dfbfb",
     "showTitle": false,
     "title": ""
    }
   },
   "outputs": [],
   "source": [
    "%sql\n",
    " \n",
    "SELECT\n",
    "  ORGID_SHIPTO_ORGID as customer,\n",
    "  ITEM_NUMBER as item, \n",
    "  sum(total_qty) as quantity\n",
    "FROM train\n",
    "GROUP BY customer, item\n",
    "ORDER BY quantity DESC;"
   ]
  },
  {
   "cell_type": "markdown",
   "metadata": {
    "application/vnd.databricks.v1+cell": {
     "cellMetadata": {},
     "inputWidgets": {},
     "nuid": "54384b5e-cf1c-4c40-be1a-8bd49510004f",
     "showTitle": false,
     "title": ""
    }
   },
   "source": [
    "# Most popular Customer, Item combination is CUSTOMER_NO and XXX123456"
   ]
  },
  {
   "cell_type": "code",
   "execution_count": null,
   "metadata": {
    "application/vnd.databricks.v1+cell": {
     "cellMetadata": {
      "byteLimit": 2048000,
      "implicitDf": true,
      "rowLimit": 10000
     },
     "inputWidgets": {},
     "nuid": "ec73b83f-a589-4362-8354-a4f785acae0e",
     "showTitle": false,
     "title": ""
    }
   },
   "outputs": [],
   "source": [
    "%sql\n",
    " \n",
    "SELECT\n",
    "  year(TRANSACTION_DATE) as year, \n",
    "  sum(total_qty) as sales\n",
    "FROM train\n",
    "GROUP BY year(TRANSACTION_DATE)\n",
    "ORDER BY year;"
   ]
  },
  {
   "cell_type": "code",
   "execution_count": null,
   "metadata": {
    "application/vnd.databricks.v1+cell": {
     "cellMetadata": {
      "byteLimit": 2048000,
      "rowLimit": 10000
     },
     "inputWidgets": {},
     "nuid": "9797cc32-c45b-4163-9182-8ca3c9674100",
     "showTitle": false,
     "title": ""
    }
   },
   "outputs": [],
   "source": []
  },
  {
   "cell_type": "code",
   "execution_count": null,
   "metadata": {
    "application/vnd.databricks.v1+cell": {
     "cellMetadata": {
      "byteLimit": 2048000,
      "rowLimit": 10000
     },
     "inputWidgets": {},
     "nuid": "fdf8ec23-5967-423f-b272-51ccf957c00f",
     "showTitle": false,
     "title": ""
    }
   },
   "outputs": [],
   "source": [
    "import matplotlib.pyplot as plt\n",
    "\n",
    "# Convert the Spark DataFrame to pandas DataFrame\n",
    "pandas_df = _sqldf.toPandas()\n",
    "\n",
    "# Plot a line chart of the sales by year\n",
    "plt.plot(pandas_df['year'].to_numpy(), pandas_df['sales'].to_numpy())\n",
    "\n",
    "# Set the chart title and axis labels\n",
    "plt.title('Sales by Year')\n",
    "plt.xlabel('Year')\n",
    "plt.ylabel('Sales')\n",
    "\n",
    "# Display the plot\n",
    "plt.show()"
   ]
  },
  {
   "cell_type": "code",
   "execution_count": null,
   "metadata": {
    "application/vnd.databricks.v1+cell": {
     "cellMetadata": {
      "byteLimit": 2048000,
      "rowLimit": 10000
     },
     "inputWidgets": {},
     "nuid": "650377d4-5a8a-4c58-99d8-00484f3b80e2",
     "showTitle": false,
     "title": ""
    }
   },
   "outputs": [],
   "source": [
    "pandas_df"
   ]
  },
  {
   "cell_type": "markdown",
   "metadata": {
    "application/vnd.databricks.v1+cell": {
     "cellMetadata": {
      "byteLimit": 2048000,
      "rowLimit": 10000
     },
     "inputWidgets": {},
     "nuid": "49e512af-88eb-4b26-a76c-2d4ba27926b8",
     "showTitle": false,
     "title": ""
    }
   },
   "source": [
    "# Build a single forecast first\n",
    "## Retrieve Data for a Single Item-Customer Combination"
   ]
  },
  {
   "cell_type": "code",
   "execution_count": null,
   "metadata": {
    "application/vnd.databricks.v1+cell": {
     "cellMetadata": {
      "byteLimit": 2048000,
      "implicitDf": true,
      "rowLimit": 10000
     },
     "inputWidgets": {},
     "nuid": "0969d6a9-0ba1-4608-ba81-dc228e00ce64",
     "showTitle": false,
     "title": ""
    }
   },
   "outputs": [],
   "source": [
    "%sql\n",
    "\n",
    "SELECT\n",
    "    CAST(TRANSACTION_DATE as date) as ds,\n",
    "    total_qty as y\n",
    "  FROM train\n",
    "  WHERE ORGID_SHIPTO_ORGID='876086' AND ITEM_NUMBER='CAT01586'\n",
    "  ORDER BY ds"
   ]
  },
  {
   "cell_type": "code",
   "execution_count": null,
   "metadata": {
    "application/vnd.databricks.v1+cell": {
     "cellMetadata": {
      "byteLimit": 2048000,
      "rowLimit": 10000
     },
     "inputWidgets": {},
     "nuid": "a31d6f6c-90d2-4da8-aaeb-c01feac4cb1e",
     "showTitle": false,
     "title": ""
    }
   },
   "outputs": [],
   "source": [
    "# query to aggregate data to date (ds) level\n",
    "sql_statement = '''\n",
    "  SELECT\n",
    "    CAST(TRANSACTION_DATE as date) as ds,\n",
    "    total_qty as y\n",
    "  FROM train\n",
    "  WHERE ORGID_SHIPTO_ORGID='CUSTOMER_NO'\n",
    "  AND ITEM_NUMBER='ITEM_NO'\n",
    "  AND TRANSACTION_DATE < '2023-01-01'\n",
    "  ORDER BY ds\n",
    "  '''\n",
    " \n",
    "# assemble dataset in Pandas dataframe\n",
    "history_pd = spark.sql(sql_statement).toPandas()\n",
    " \n",
    "# drop any missing records\n",
    "history_pd = history_pd.dropna()"
   ]
  },
  {
   "cell_type": "code",
   "execution_count": null,
   "metadata": {
    "application/vnd.databricks.v1+cell": {
     "cellMetadata": {
      "byteLimit": 2048000,
      "rowLimit": 10000
     },
     "inputWidgets": {},
     "nuid": "c80c8079-711c-4da0-a329-66b491411256",
     "showTitle": false,
     "title": ""
    }
   },
   "outputs": [],
   "source": [
    "history_pd"
   ]
  },
  {
   "cell_type": "code",
   "execution_count": null,
   "metadata": {
    "application/vnd.databricks.v1+cell": {
     "cellMetadata": {
      "byteLimit": 2048000,
      "rowLimit": 10000
     },
     "inputWidgets": {},
     "nuid": "ecb7c772-a76f-40a4-acf7-a78ede6adb00",
     "showTitle": false,
     "title": ""
    }
   },
   "outputs": [],
   "source": [
    "from prophet import Prophet\n",
    "import logging\n",
    " \n",
    "# disable informational messages from prophet\n",
    "logging.getLogger('py4j').setLevel(logging.ERROR)"
   ]
  },
  {
   "cell_type": "markdown",
   "metadata": {
    "application/vnd.databricks.v1+cell": {
     "cellMetadata": {},
     "inputWidgets": {},
     "nuid": "215688e8-439a-4f4f-a0e4-5ba889db3858",
     "showTitle": false,
     "title": ""
    }
   },
   "source": [
    "# Train the Prohpet model"
   ]
  },
  {
   "cell_type": "code",
   "execution_count": null,
   "metadata": {
    "application/vnd.databricks.v1+cell": {
     "cellMetadata": {
      "byteLimit": 2048000,
      "rowLimit": 10000
     },
     "inputWidgets": {},
     "nuid": "d7f58a47-c76b-4569-84ab-eea7d7a8c85a",
     "showTitle": false,
     "title": ""
    }
   },
   "outputs": [],
   "source": [
    "# set model parameters\n",
    "model = Prophet(\n",
    "  interval_width=0.95,\n",
    "  growth='linear',\n",
    "  daily_seasonality=False,\n",
    "  weekly_seasonality=True,\n",
    "  yearly_seasonality=True,\n",
    "  seasonality_mode='multiplicative'\n",
    "  )\n",
    " \n",
    "# fit the model to historical data\n",
    "model.fit(history_pd)"
   ]
  },
  {
   "cell_type": "markdown",
   "metadata": {
    "application/vnd.databricks.v1+cell": {
     "cellMetadata": {},
     "inputWidgets": {},
     "nuid": "a1eb6f98-40f2-4dd0-8d93-fa50c7046e1a",
     "showTitle": false,
     "title": ""
    }
   },
   "source": [
    "# Build Forecast"
   ]
  },
  {
   "cell_type": "code",
   "execution_count": null,
   "metadata": {
    "application/vnd.databricks.v1+cell": {
     "cellMetadata": {
      "byteLimit": 2048000,
      "rowLimit": 10000
     },
     "inputWidgets": {},
     "nuid": "1cf1297b-0979-49d5-a49e-35393c5a1650",
     "showTitle": false,
     "title": ""
    }
   },
   "outputs": [],
   "source": [
    "# define a dataset including both historical dates & 90-days beyond the last available date\n",
    "future_pd = model.make_future_dataframe(\n",
    "  periods=90, \n",
    "  freq='d', \n",
    "  include_history=True\n",
    "  )\n",
    " \n",
    "# predict over the dataset\n",
    "forecast_pd = model.predict(future_pd)\n",
    " \n",
    "#display(forecast_pd)\n",
    "forecast_pd"
   ]
  },
  {
   "cell_type": "code",
   "execution_count": null,
   "metadata": {
    "application/vnd.databricks.v1+cell": {
     "cellMetadata": {
      "byteLimit": 2048000,
      "rowLimit": 10000
     },
     "inputWidgets": {},
     "nuid": "fc018f08-dd29-4aeb-abdd-5d2a072f5a9e",
     "showTitle": false,
     "title": ""
    }
   },
   "outputs": [],
   "source": [
    "type(forecast_pd)"
   ]
  },
  {
   "cell_type": "code",
   "execution_count": null,
   "metadata": {
    "application/vnd.databricks.v1+cell": {
     "cellMetadata": {
      "byteLimit": 2048000,
      "rowLimit": 10000
     },
     "inputWidgets": {},
     "nuid": "d0fcd73e-dedd-4b3c-80f5-0d173826a094",
     "showTitle": false,
     "title": ""
    }
   },
   "outputs": [],
   "source": [
    "\n",
    "import matplotlib.pyplot as plt\n",
    "\n",
    "# Get the components of the forecast\n",
    "trend = forecast_pd['trend']\n",
    "yearly_seasonality = forecast_pd['yearly']\n",
    "weekly_seasonality = forecast_pd['weekly']\n",
    "\n",
    "# Plot the components\n",
    "fig, axs = plt.subplots(3, 1, figsize=(12, 6))\n",
    "\n",
    "axs[0].plot(trend)\n",
    "axs[0].set_title('Trend')\n",
    "\n",
    "axs[1].plot(yearly_seasonality)\n",
    "axs[1].set_title('Yearly Seasonality')\n",
    "\n",
    "axs[2].plot(weekly_seasonality)\n",
    "axs[2].set_title('Weekly Seasonality')\n",
    "\n",
    "fig.tight_layout()\n",
    "\n",
    "# Display the plot\n",
    "plt.show()"
   ]
  },
  {
   "cell_type": "code",
   "execution_count": null,
   "metadata": {
    "application/vnd.databricks.v1+cell": {
     "cellMetadata": {
      "byteLimit": 2048000,
      "rowLimit": 10000
     },
     "inputWidgets": {},
     "nuid": "b892325e-b4bc-4baa-9986-1b2174e9591f",
     "showTitle": false,
     "title": ""
    }
   },
   "outputs": [],
   "source": [
    "forecast_pd.iloc[75:95]"
   ]
  },
  {
   "cell_type": "code",
   "execution_count": null,
   "metadata": {
    "application/vnd.databricks.v1+cell": {
     "cellMetadata": {
      "byteLimit": 2048000,
      "rowLimit": 10000
     },
     "inputWidgets": {},
     "nuid": "7273d345-7a2c-447c-a31f-59d7cb63dae1",
     "showTitle": false,
     "title": ""
    }
   },
   "outputs": [],
   "source": [
    "predict_fig = model.plot( forecast_pd, xlabel='date', ylabel='sales')\n",
    " \n",
    "# adjust figure to display dates from last year + the 90 day forecast\n",
    "xlim = predict_fig.axes[0].get_xlim()\n",
    "new_xlim = ( xlim[1]-(180.0+365.0), xlim[1]-90.0)\n",
    "predict_fig.axes[0].set_xlim(new_xlim)\n",
    " \n",
    "display(predict_fig)"
   ]
  },
  {
   "cell_type": "code",
   "execution_count": null,
   "metadata": {
    "application/vnd.databricks.v1+cell": {
     "cellMetadata": {},
     "inputWidgets": {},
     "nuid": "c8656fd8-213d-406d-a693-c4453b3986d8",
     "showTitle": false,
     "title": ""
    }
   },
   "outputs": [],
   "source": []
  }
 ],
 "metadata": {
  "application/vnd.databricks.v1+notebook": {
   "dashboards": [],
   "language": "python",
   "notebookMetadata": {
    "mostRecentlyExecutedCommandWithImplicitDF": {
     "commandId": 3472176014721086,
     "dataframes": [
      "_sqldf"
     ]
    },
    "pythonIndentUnit": 2
   },
   "notebookName": "Time Series Forecasting",
   "widgets": {}
  },
  "kernelspec": {
   "display_name": "Python 3 (ipykernel)",
   "language": "python",
   "name": "python3"
  },
  "language_info": {
   "codemirror_mode": {
    "name": "ipython",
    "version": 3
   },
   "file_extension": ".py",
   "mimetype": "text/x-python",
   "name": "python",
   "nbconvert_exporter": "python",
   "pygments_lexer": "ipython3",
   "version": "3.9.7"
  }
 },
 "nbformat": 4,
 "nbformat_minor": 1
}
